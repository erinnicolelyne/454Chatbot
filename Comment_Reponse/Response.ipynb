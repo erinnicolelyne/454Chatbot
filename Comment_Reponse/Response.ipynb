{
  "nbformat": 4,
  "nbformat_minor": 0,
  "metadata": {
    "colab": {
      "name": "Untitled2.ipynb",
      "provenance": [],
      "collapsed_sections": []
    },
    "kernelspec": {
      "name": "python3",
      "display_name": "Python 3"
    },
    "widgets": {
      "application/vnd.jupyter.widget-state+json": {
        "cdf6e8bed8164b1983b912b0f901e548": {
          "model_module": "@jupyter-widgets/controls",
          "model_name": "HBoxModel",
          "state": {
            "_view_name": "HBoxView",
            "_dom_classes": [],
            "_model_name": "HBoxModel",
            "_view_module": "@jupyter-widgets/controls",
            "_model_module_version": "1.5.0",
            "_view_count": null,
            "_view_module_version": "1.5.0",
            "box_style": "",
            "layout": "IPY_MODEL_b8fc75a8c197404094d44f27e16f9ad4",
            "_model_module": "@jupyter-widgets/controls",
            "children": [
              "IPY_MODEL_88afcdd9a6314118b049617a767abf29",
              "IPY_MODEL_572183747ea54bf6ba9b8e3fad14c051"
            ]
          }
        },
        "b8fc75a8c197404094d44f27e16f9ad4": {
          "model_module": "@jupyter-widgets/base",
          "model_name": "LayoutModel",
          "state": {
            "_view_name": "LayoutView",
            "grid_template_rows": null,
            "right": null,
            "justify_content": null,
            "_view_module": "@jupyter-widgets/base",
            "overflow": null,
            "_model_module_version": "1.2.0",
            "_view_count": null,
            "flex_flow": null,
            "width": null,
            "min_width": null,
            "border": null,
            "align_items": null,
            "bottom": null,
            "_model_module": "@jupyter-widgets/base",
            "top": null,
            "grid_column": null,
            "overflow_y": null,
            "overflow_x": null,
            "grid_auto_flow": null,
            "grid_area": null,
            "grid_template_columns": null,
            "flex": null,
            "_model_name": "LayoutModel",
            "justify_items": null,
            "grid_row": null,
            "max_height": null,
            "align_content": null,
            "visibility": null,
            "align_self": null,
            "height": null,
            "min_height": null,
            "padding": null,
            "grid_auto_rows": null,
            "grid_gap": null,
            "max_width": null,
            "order": null,
            "_view_module_version": "1.2.0",
            "grid_template_areas": null,
            "object_position": null,
            "object_fit": null,
            "grid_auto_columns": null,
            "margin": null,
            "display": null,
            "left": null
          }
        },
        "88afcdd9a6314118b049617a767abf29": {
          "model_module": "@jupyter-widgets/controls",
          "model_name": "FloatProgressModel",
          "state": {
            "_view_name": "ProgressView",
            "style": "IPY_MODEL_c5de6c476d8f47cb811fad0924d32c73",
            "_dom_classes": [],
            "description": "Downloading: 100%",
            "_model_name": "FloatProgressModel",
            "bar_style": "success",
            "max": 443,
            "_view_module": "@jupyter-widgets/controls",
            "_model_module_version": "1.5.0",
            "value": 443,
            "_view_count": null,
            "_view_module_version": "1.5.0",
            "orientation": "horizontal",
            "min": 0,
            "description_tooltip": null,
            "_model_module": "@jupyter-widgets/controls",
            "layout": "IPY_MODEL_fbbce6d4129742fdb3f4861fdb244a98"
          }
        },
        "572183747ea54bf6ba9b8e3fad14c051": {
          "model_module": "@jupyter-widgets/controls",
          "model_name": "HTMLModel",
          "state": {
            "_view_name": "HTMLView",
            "style": "IPY_MODEL_600b1b5a9b044e46b59a98037334ffc9",
            "_dom_classes": [],
            "description": "",
            "_model_name": "HTMLModel",
            "placeholder": "​",
            "_view_module": "@jupyter-widgets/controls",
            "_model_module_version": "1.5.0",
            "value": " 443/443 [00:00&lt;00:00, 1.10kB/s]",
            "_view_count": null,
            "_view_module_version": "1.5.0",
            "description_tooltip": null,
            "_model_module": "@jupyter-widgets/controls",
            "layout": "IPY_MODEL_79e258c2f4714fe682de75a0af781505"
          }
        },
        "c5de6c476d8f47cb811fad0924d32c73": {
          "model_module": "@jupyter-widgets/controls",
          "model_name": "ProgressStyleModel",
          "state": {
            "_view_name": "StyleView",
            "_model_name": "ProgressStyleModel",
            "description_width": "initial",
            "_view_module": "@jupyter-widgets/base",
            "_model_module_version": "1.5.0",
            "_view_count": null,
            "_view_module_version": "1.2.0",
            "bar_color": null,
            "_model_module": "@jupyter-widgets/controls"
          }
        },
        "fbbce6d4129742fdb3f4861fdb244a98": {
          "model_module": "@jupyter-widgets/base",
          "model_name": "LayoutModel",
          "state": {
            "_view_name": "LayoutView",
            "grid_template_rows": null,
            "right": null,
            "justify_content": null,
            "_view_module": "@jupyter-widgets/base",
            "overflow": null,
            "_model_module_version": "1.2.0",
            "_view_count": null,
            "flex_flow": null,
            "width": null,
            "min_width": null,
            "border": null,
            "align_items": null,
            "bottom": null,
            "_model_module": "@jupyter-widgets/base",
            "top": null,
            "grid_column": null,
            "overflow_y": null,
            "overflow_x": null,
            "grid_auto_flow": null,
            "grid_area": null,
            "grid_template_columns": null,
            "flex": null,
            "_model_name": "LayoutModel",
            "justify_items": null,
            "grid_row": null,
            "max_height": null,
            "align_content": null,
            "visibility": null,
            "align_self": null,
            "height": null,
            "min_height": null,
            "padding": null,
            "grid_auto_rows": null,
            "grid_gap": null,
            "max_width": null,
            "order": null,
            "_view_module_version": "1.2.0",
            "grid_template_areas": null,
            "object_position": null,
            "object_fit": null,
            "grid_auto_columns": null,
            "margin": null,
            "display": null,
            "left": null
          }
        },
        "600b1b5a9b044e46b59a98037334ffc9": {
          "model_module": "@jupyter-widgets/controls",
          "model_name": "DescriptionStyleModel",
          "state": {
            "_view_name": "StyleView",
            "_model_name": "DescriptionStyleModel",
            "description_width": "",
            "_view_module": "@jupyter-widgets/base",
            "_model_module_version": "1.5.0",
            "_view_count": null,
            "_view_module_version": "1.2.0",
            "_model_module": "@jupyter-widgets/controls"
          }
        },
        "79e258c2f4714fe682de75a0af781505": {
          "model_module": "@jupyter-widgets/base",
          "model_name": "LayoutModel",
          "state": {
            "_view_name": "LayoutView",
            "grid_template_rows": null,
            "right": null,
            "justify_content": null,
            "_view_module": "@jupyter-widgets/base",
            "overflow": null,
            "_model_module_version": "1.2.0",
            "_view_count": null,
            "flex_flow": null,
            "width": null,
            "min_width": null,
            "border": null,
            "align_items": null,
            "bottom": null,
            "_model_module": "@jupyter-widgets/base",
            "top": null,
            "grid_column": null,
            "overflow_y": null,
            "overflow_x": null,
            "grid_auto_flow": null,
            "grid_area": null,
            "grid_template_columns": null,
            "flex": null,
            "_model_name": "LayoutModel",
            "justify_items": null,
            "grid_row": null,
            "max_height": null,
            "align_content": null,
            "visibility": null,
            "align_self": null,
            "height": null,
            "min_height": null,
            "padding": null,
            "grid_auto_rows": null,
            "grid_gap": null,
            "max_width": null,
            "order": null,
            "_view_module_version": "1.2.0",
            "grid_template_areas": null,
            "object_position": null,
            "object_fit": null,
            "grid_auto_columns": null,
            "margin": null,
            "display": null,
            "left": null
          }
        },
        "9c429f698e9a48b1b91c20cf730cfe01": {
          "model_module": "@jupyter-widgets/controls",
          "model_name": "HBoxModel",
          "state": {
            "_view_name": "HBoxView",
            "_dom_classes": [],
            "_model_name": "HBoxModel",
            "_view_module": "@jupyter-widgets/controls",
            "_model_module_version": "1.5.0",
            "_view_count": null,
            "_view_module_version": "1.5.0",
            "box_style": "",
            "layout": "IPY_MODEL_bc6d8e1be5914b35abaee41e5a19f95e",
            "_model_module": "@jupyter-widgets/controls",
            "children": [
              "IPY_MODEL_60b220d2cd5a45218d63d2af3e6f5b39",
              "IPY_MODEL_c2fbd36ba68b4b2b91e1fe6bdaf00de0"
            ]
          }
        },
        "bc6d8e1be5914b35abaee41e5a19f95e": {
          "model_module": "@jupyter-widgets/base",
          "model_name": "LayoutModel",
          "state": {
            "_view_name": "LayoutView",
            "grid_template_rows": null,
            "right": null,
            "justify_content": null,
            "_view_module": "@jupyter-widgets/base",
            "overflow": null,
            "_model_module_version": "1.2.0",
            "_view_count": null,
            "flex_flow": null,
            "width": null,
            "min_width": null,
            "border": null,
            "align_items": null,
            "bottom": null,
            "_model_module": "@jupyter-widgets/base",
            "top": null,
            "grid_column": null,
            "overflow_y": null,
            "overflow_x": null,
            "grid_auto_flow": null,
            "grid_area": null,
            "grid_template_columns": null,
            "flex": null,
            "_model_name": "LayoutModel",
            "justify_items": null,
            "grid_row": null,
            "max_height": null,
            "align_content": null,
            "visibility": null,
            "align_self": null,
            "height": null,
            "min_height": null,
            "padding": null,
            "grid_auto_rows": null,
            "grid_gap": null,
            "max_width": null,
            "order": null,
            "_view_module_version": "1.2.0",
            "grid_template_areas": null,
            "object_position": null,
            "object_fit": null,
            "grid_auto_columns": null,
            "margin": null,
            "display": null,
            "left": null
          }
        },
        "60b220d2cd5a45218d63d2af3e6f5b39": {
          "model_module": "@jupyter-widgets/controls",
          "model_name": "FloatProgressModel",
          "state": {
            "_view_name": "ProgressView",
            "style": "IPY_MODEL_d2a2419975444a2ca69a2795b64c8f6b",
            "_dom_classes": [],
            "description": "Downloading: 100%",
            "_model_name": "FloatProgressModel",
            "bar_style": "success",
            "max": 1340675298,
            "_view_module": "@jupyter-widgets/controls",
            "_model_module_version": "1.5.0",
            "value": 1340675298,
            "_view_count": null,
            "_view_module_version": "1.5.0",
            "orientation": "horizontal",
            "min": 0,
            "description_tooltip": null,
            "_model_module": "@jupyter-widgets/controls",
            "layout": "IPY_MODEL_86fa26a483be4cadac03327774db0525"
          }
        },
        "c2fbd36ba68b4b2b91e1fe6bdaf00de0": {
          "model_module": "@jupyter-widgets/controls",
          "model_name": "HTMLModel",
          "state": {
            "_view_name": "HTMLView",
            "style": "IPY_MODEL_7438ed9283e74b64bc90f4de3c8c9838",
            "_dom_classes": [],
            "description": "",
            "_model_name": "HTMLModel",
            "placeholder": "​",
            "_view_module": "@jupyter-widgets/controls",
            "_model_module_version": "1.5.0",
            "value": " 1.34G/1.34G [01:11&lt;00:00, 18.6MB/s]",
            "_view_count": null,
            "_view_module_version": "1.5.0",
            "description_tooltip": null,
            "_model_module": "@jupyter-widgets/controls",
            "layout": "IPY_MODEL_c67544cfa0f44ec98e949cce5f9084b3"
          }
        },
        "d2a2419975444a2ca69a2795b64c8f6b": {
          "model_module": "@jupyter-widgets/controls",
          "model_name": "ProgressStyleModel",
          "state": {
            "_view_name": "StyleView",
            "_model_name": "ProgressStyleModel",
            "description_width": "initial",
            "_view_module": "@jupyter-widgets/base",
            "_model_module_version": "1.5.0",
            "_view_count": null,
            "_view_module_version": "1.2.0",
            "bar_color": null,
            "_model_module": "@jupyter-widgets/controls"
          }
        },
        "86fa26a483be4cadac03327774db0525": {
          "model_module": "@jupyter-widgets/base",
          "model_name": "LayoutModel",
          "state": {
            "_view_name": "LayoutView",
            "grid_template_rows": null,
            "right": null,
            "justify_content": null,
            "_view_module": "@jupyter-widgets/base",
            "overflow": null,
            "_model_module_version": "1.2.0",
            "_view_count": null,
            "flex_flow": null,
            "width": null,
            "min_width": null,
            "border": null,
            "align_items": null,
            "bottom": null,
            "_model_module": "@jupyter-widgets/base",
            "top": null,
            "grid_column": null,
            "overflow_y": null,
            "overflow_x": null,
            "grid_auto_flow": null,
            "grid_area": null,
            "grid_template_columns": null,
            "flex": null,
            "_model_name": "LayoutModel",
            "justify_items": null,
            "grid_row": null,
            "max_height": null,
            "align_content": null,
            "visibility": null,
            "align_self": null,
            "height": null,
            "min_height": null,
            "padding": null,
            "grid_auto_rows": null,
            "grid_gap": null,
            "max_width": null,
            "order": null,
            "_view_module_version": "1.2.0",
            "grid_template_areas": null,
            "object_position": null,
            "object_fit": null,
            "grid_auto_columns": null,
            "margin": null,
            "display": null,
            "left": null
          }
        },
        "7438ed9283e74b64bc90f4de3c8c9838": {
          "model_module": "@jupyter-widgets/controls",
          "model_name": "DescriptionStyleModel",
          "state": {
            "_view_name": "StyleView",
            "_model_name": "DescriptionStyleModel",
            "description_width": "",
            "_view_module": "@jupyter-widgets/base",
            "_model_module_version": "1.5.0",
            "_view_count": null,
            "_view_module_version": "1.2.0",
            "_model_module": "@jupyter-widgets/controls"
          }
        },
        "c67544cfa0f44ec98e949cce5f9084b3": {
          "model_module": "@jupyter-widgets/base",
          "model_name": "LayoutModel",
          "state": {
            "_view_name": "LayoutView",
            "grid_template_rows": null,
            "right": null,
            "justify_content": null,
            "_view_module": "@jupyter-widgets/base",
            "overflow": null,
            "_model_module_version": "1.2.0",
            "_view_count": null,
            "flex_flow": null,
            "width": null,
            "min_width": null,
            "border": null,
            "align_items": null,
            "bottom": null,
            "_model_module": "@jupyter-widgets/base",
            "top": null,
            "grid_column": null,
            "overflow_y": null,
            "overflow_x": null,
            "grid_auto_flow": null,
            "grid_area": null,
            "grid_template_columns": null,
            "flex": null,
            "_model_name": "LayoutModel",
            "justify_items": null,
            "grid_row": null,
            "max_height": null,
            "align_content": null,
            "visibility": null,
            "align_self": null,
            "height": null,
            "min_height": null,
            "padding": null,
            "grid_auto_rows": null,
            "grid_gap": null,
            "max_width": null,
            "order": null,
            "_view_module_version": "1.2.0",
            "grid_template_areas": null,
            "object_position": null,
            "object_fit": null,
            "grid_auto_columns": null,
            "margin": null,
            "display": null,
            "left": null
          }
        },
        "922770a3d4904947aa22b8a40bdacc20": {
          "model_module": "@jupyter-widgets/controls",
          "model_name": "HBoxModel",
          "state": {
            "_view_name": "HBoxView",
            "_dom_classes": [],
            "_model_name": "HBoxModel",
            "_view_module": "@jupyter-widgets/controls",
            "_model_module_version": "1.5.0",
            "_view_count": null,
            "_view_module_version": "1.5.0",
            "box_style": "",
            "layout": "IPY_MODEL_71ec1ac98a1a44179161d03836d44c1c",
            "_model_module": "@jupyter-widgets/controls",
            "children": [
              "IPY_MODEL_1c93184b49c34361b6e083fc13ab6226",
              "IPY_MODEL_b18cae22db2e4f40baa2a1b3918ee483"
            ]
          }
        },
        "71ec1ac98a1a44179161d03836d44c1c": {
          "model_module": "@jupyter-widgets/base",
          "model_name": "LayoutModel",
          "state": {
            "_view_name": "LayoutView",
            "grid_template_rows": null,
            "right": null,
            "justify_content": null,
            "_view_module": "@jupyter-widgets/base",
            "overflow": null,
            "_model_module_version": "1.2.0",
            "_view_count": null,
            "flex_flow": null,
            "width": null,
            "min_width": null,
            "border": null,
            "align_items": null,
            "bottom": null,
            "_model_module": "@jupyter-widgets/base",
            "top": null,
            "grid_column": null,
            "overflow_y": null,
            "overflow_x": null,
            "grid_auto_flow": null,
            "grid_area": null,
            "grid_template_columns": null,
            "flex": null,
            "_model_name": "LayoutModel",
            "justify_items": null,
            "grid_row": null,
            "max_height": null,
            "align_content": null,
            "visibility": null,
            "align_self": null,
            "height": null,
            "min_height": null,
            "padding": null,
            "grid_auto_rows": null,
            "grid_gap": null,
            "max_width": null,
            "order": null,
            "_view_module_version": "1.2.0",
            "grid_template_areas": null,
            "object_position": null,
            "object_fit": null,
            "grid_auto_columns": null,
            "margin": null,
            "display": null,
            "left": null
          }
        },
        "1c93184b49c34361b6e083fc13ab6226": {
          "model_module": "@jupyter-widgets/controls",
          "model_name": "FloatProgressModel",
          "state": {
            "_view_name": "ProgressView",
            "style": "IPY_MODEL_10e182ecd9eb4e16839a4690018fbb26",
            "_dom_classes": [],
            "description": "Downloading: 100%",
            "_model_name": "FloatProgressModel",
            "bar_style": "success",
            "max": 231508,
            "_view_module": "@jupyter-widgets/controls",
            "_model_module_version": "1.5.0",
            "value": 231508,
            "_view_count": null,
            "_view_module_version": "1.5.0",
            "orientation": "horizontal",
            "min": 0,
            "description_tooltip": null,
            "_model_module": "@jupyter-widgets/controls",
            "layout": "IPY_MODEL_5278a33fa0574bfaaabd57ed9a0fda94"
          }
        },
        "b18cae22db2e4f40baa2a1b3918ee483": {
          "model_module": "@jupyter-widgets/controls",
          "model_name": "HTMLModel",
          "state": {
            "_view_name": "HTMLView",
            "style": "IPY_MODEL_5100e92f69824956b6bed7d93adcbf58",
            "_dom_classes": [],
            "description": "",
            "_model_name": "HTMLModel",
            "placeholder": "​",
            "_view_module": "@jupyter-widgets/controls",
            "_model_module_version": "1.5.0",
            "value": " 232k/232k [00:00&lt;00:00, 2.18MB/s]",
            "_view_count": null,
            "_view_module_version": "1.5.0",
            "description_tooltip": null,
            "_model_module": "@jupyter-widgets/controls",
            "layout": "IPY_MODEL_a74498701bee442d82ded6388c9a6b6f"
          }
        },
        "10e182ecd9eb4e16839a4690018fbb26": {
          "model_module": "@jupyter-widgets/controls",
          "model_name": "ProgressStyleModel",
          "state": {
            "_view_name": "StyleView",
            "_model_name": "ProgressStyleModel",
            "description_width": "initial",
            "_view_module": "@jupyter-widgets/base",
            "_model_module_version": "1.5.0",
            "_view_count": null,
            "_view_module_version": "1.2.0",
            "bar_color": null,
            "_model_module": "@jupyter-widgets/controls"
          }
        },
        "5278a33fa0574bfaaabd57ed9a0fda94": {
          "model_module": "@jupyter-widgets/base",
          "model_name": "LayoutModel",
          "state": {
            "_view_name": "LayoutView",
            "grid_template_rows": null,
            "right": null,
            "justify_content": null,
            "_view_module": "@jupyter-widgets/base",
            "overflow": null,
            "_model_module_version": "1.2.0",
            "_view_count": null,
            "flex_flow": null,
            "width": null,
            "min_width": null,
            "border": null,
            "align_items": null,
            "bottom": null,
            "_model_module": "@jupyter-widgets/base",
            "top": null,
            "grid_column": null,
            "overflow_y": null,
            "overflow_x": null,
            "grid_auto_flow": null,
            "grid_area": null,
            "grid_template_columns": null,
            "flex": null,
            "_model_name": "LayoutModel",
            "justify_items": null,
            "grid_row": null,
            "max_height": null,
            "align_content": null,
            "visibility": null,
            "align_self": null,
            "height": null,
            "min_height": null,
            "padding": null,
            "grid_auto_rows": null,
            "grid_gap": null,
            "max_width": null,
            "order": null,
            "_view_module_version": "1.2.0",
            "grid_template_areas": null,
            "object_position": null,
            "object_fit": null,
            "grid_auto_columns": null,
            "margin": null,
            "display": null,
            "left": null
          }
        },
        "5100e92f69824956b6bed7d93adcbf58": {
          "model_module": "@jupyter-widgets/controls",
          "model_name": "DescriptionStyleModel",
          "state": {
            "_view_name": "StyleView",
            "_model_name": "DescriptionStyleModel",
            "description_width": "",
            "_view_module": "@jupyter-widgets/base",
            "_model_module_version": "1.5.0",
            "_view_count": null,
            "_view_module_version": "1.2.0",
            "_model_module": "@jupyter-widgets/controls"
          }
        },
        "a74498701bee442d82ded6388c9a6b6f": {
          "model_module": "@jupyter-widgets/base",
          "model_name": "LayoutModel",
          "state": {
            "_view_name": "LayoutView",
            "grid_template_rows": null,
            "right": null,
            "justify_content": null,
            "_view_module": "@jupyter-widgets/base",
            "overflow": null,
            "_model_module_version": "1.2.0",
            "_view_count": null,
            "flex_flow": null,
            "width": null,
            "min_width": null,
            "border": null,
            "align_items": null,
            "bottom": null,
            "_model_module": "@jupyter-widgets/base",
            "top": null,
            "grid_column": null,
            "overflow_y": null,
            "overflow_x": null,
            "grid_auto_flow": null,
            "grid_area": null,
            "grid_template_columns": null,
            "flex": null,
            "_model_name": "LayoutModel",
            "justify_items": null,
            "grid_row": null,
            "max_height": null,
            "align_content": null,
            "visibility": null,
            "align_self": null,
            "height": null,
            "min_height": null,
            "padding": null,
            "grid_auto_rows": null,
            "grid_gap": null,
            "max_width": null,
            "order": null,
            "_view_module_version": "1.2.0",
            "grid_template_areas": null,
            "object_position": null,
            "object_fit": null,
            "grid_auto_columns": null,
            "margin": null,
            "display": null,
            "left": null
          }
        }
      }
    }
  },
  "cells": [
    {
      "cell_type": "code",
      "metadata": {
        "colab": {
          "base_uri": "https://localhost:8080/"
        },
        "id": "aq9LG9zTwmtS",
        "outputId": "8ffb1edb-b02c-44d6-dea5-df303cdfa04b"
      },
      "source": [
        "!pip install transformers==3"
      ],
      "execution_count": null,
      "outputs": [
        {
          "output_type": "stream",
          "text": [
            "Collecting transformers==3\n",
            "\u001b[?25l  Downloading https://files.pythonhosted.org/packages/9c/35/1c3f6e62d81f5f0daff1384e6d5e6c5758682a8357ebc765ece2b9def62b/transformers-3.0.0-py3-none-any.whl (754kB)\n",
            "\r\u001b[K     |▍                               | 10kB 16.4MB/s eta 0:00:01\r\u001b[K     |▉                               | 20kB 10.0MB/s eta 0:00:01\r\u001b[K     |█▎                              | 30kB 8.4MB/s eta 0:00:01\r\u001b[K     |█▊                              | 40kB 7.4MB/s eta 0:00:01\r\u001b[K     |██▏                             | 51kB 4.4MB/s eta 0:00:01\r\u001b[K     |██▋                             | 61kB 4.9MB/s eta 0:00:01\r\u001b[K     |███                             | 71kB 5.0MB/s eta 0:00:01\r\u001b[K     |███▌                            | 81kB 5.3MB/s eta 0:00:01\r\u001b[K     |████                            | 92kB 5.7MB/s eta 0:00:01\r\u001b[K     |████▍                           | 102kB 5.6MB/s eta 0:00:01\r\u001b[K     |████▊                           | 112kB 5.6MB/s eta 0:00:01\r\u001b[K     |█████▏                          | 122kB 5.6MB/s eta 0:00:01\r\u001b[K     |█████▋                          | 133kB 5.6MB/s eta 0:00:01\r\u001b[K     |██████                          | 143kB 5.6MB/s eta 0:00:01\r\u001b[K     |██████▌                         | 153kB 5.6MB/s eta 0:00:01\r\u001b[K     |███████                         | 163kB 5.6MB/s eta 0:00:01\r\u001b[K     |███████▍                        | 174kB 5.6MB/s eta 0:00:01\r\u001b[K     |███████▉                        | 184kB 5.6MB/s eta 0:00:01\r\u001b[K     |████████▎                       | 194kB 5.6MB/s eta 0:00:01\r\u001b[K     |████████▊                       | 204kB 5.6MB/s eta 0:00:01\r\u001b[K     |█████████▏                      | 215kB 5.6MB/s eta 0:00:01\r\u001b[K     |█████████▌                      | 225kB 5.6MB/s eta 0:00:01\r\u001b[K     |██████████                      | 235kB 5.6MB/s eta 0:00:01\r\u001b[K     |██████████▍                     | 245kB 5.6MB/s eta 0:00:01\r\u001b[K     |██████████▉                     | 256kB 5.6MB/s eta 0:00:01\r\u001b[K     |███████████▎                    | 266kB 5.6MB/s eta 0:00:01\r\u001b[K     |███████████▊                    | 276kB 5.6MB/s eta 0:00:01\r\u001b[K     |████████████▏                   | 286kB 5.6MB/s eta 0:00:01\r\u001b[K     |████████████▋                   | 296kB 5.6MB/s eta 0:00:01\r\u001b[K     |█████████████                   | 307kB 5.6MB/s eta 0:00:01\r\u001b[K     |█████████████▌                  | 317kB 5.6MB/s eta 0:00:01\r\u001b[K     |██████████████                  | 327kB 5.6MB/s eta 0:00:01\r\u001b[K     |██████████████▎                 | 337kB 5.6MB/s eta 0:00:01\r\u001b[K     |██████████████▊                 | 348kB 5.6MB/s eta 0:00:01\r\u001b[K     |███████████████▏                | 358kB 5.6MB/s eta 0:00:01\r\u001b[K     |███████████████▋                | 368kB 5.6MB/s eta 0:00:01\r\u001b[K     |████████████████                | 378kB 5.6MB/s eta 0:00:01\r\u001b[K     |████████████████▌               | 389kB 5.6MB/s eta 0:00:01\r\u001b[K     |█████████████████               | 399kB 5.6MB/s eta 0:00:01\r\u001b[K     |█████████████████▍              | 409kB 5.6MB/s eta 0:00:01\r\u001b[K     |█████████████████▉              | 419kB 5.6MB/s eta 0:00:01\r\u001b[K     |██████████████████▎             | 430kB 5.6MB/s eta 0:00:01\r\u001b[K     |██████████████████▊             | 440kB 5.6MB/s eta 0:00:01\r\u001b[K     |███████████████████             | 450kB 5.6MB/s eta 0:00:01\r\u001b[K     |███████████████████▌            | 460kB 5.6MB/s eta 0:00:01\r\u001b[K     |████████████████████            | 471kB 5.6MB/s eta 0:00:01\r\u001b[K     |████████████████████▍           | 481kB 5.6MB/s eta 0:00:01\r\u001b[K     |████████████████████▉           | 491kB 5.6MB/s eta 0:00:01\r\u001b[K     |█████████████████████▎          | 501kB 5.6MB/s eta 0:00:01\r\u001b[K     |█████████████████████▊          | 512kB 5.6MB/s eta 0:00:01\r\u001b[K     |██████████████████████▏         | 522kB 5.6MB/s eta 0:00:01\r\u001b[K     |██████████████████████▋         | 532kB 5.6MB/s eta 0:00:01\r\u001b[K     |███████████████████████         | 542kB 5.6MB/s eta 0:00:01\r\u001b[K     |███████████████████████▌        | 552kB 5.6MB/s eta 0:00:01\r\u001b[K     |███████████████████████▉        | 563kB 5.6MB/s eta 0:00:01\r\u001b[K     |████████████████████████▎       | 573kB 5.6MB/s eta 0:00:01\r\u001b[K     |████████████████████████▊       | 583kB 5.6MB/s eta 0:00:01\r\u001b[K     |█████████████████████████▏      | 593kB 5.6MB/s eta 0:00:01\r\u001b[K     |█████████████████████████▋      | 604kB 5.6MB/s eta 0:00:01\r\u001b[K     |██████████████████████████      | 614kB 5.6MB/s eta 0:00:01\r\u001b[K     |██████████████████████████▌     | 624kB 5.6MB/s eta 0:00:01\r\u001b[K     |███████████████████████████     | 634kB 5.6MB/s eta 0:00:01\r\u001b[K     |███████████████████████████▍    | 645kB 5.6MB/s eta 0:00:01\r\u001b[K     |███████████████████████████▉    | 655kB 5.6MB/s eta 0:00:01\r\u001b[K     |████████████████████████████▎   | 665kB 5.6MB/s eta 0:00:01\r\u001b[K     |████████████████████████████▋   | 675kB 5.6MB/s eta 0:00:01\r\u001b[K     |█████████████████████████████   | 686kB 5.6MB/s eta 0:00:01\r\u001b[K     |█████████████████████████████▌  | 696kB 5.6MB/s eta 0:00:01\r\u001b[K     |██████████████████████████████  | 706kB 5.6MB/s eta 0:00:01\r\u001b[K     |██████████████████████████████▍ | 716kB 5.6MB/s eta 0:00:01\r\u001b[K     |██████████████████████████████▉ | 727kB 5.6MB/s eta 0:00:01\r\u001b[K     |███████████████████████████████▎| 737kB 5.6MB/s eta 0:00:01\r\u001b[K     |███████████████████████████████▊| 747kB 5.6MB/s eta 0:00:01\r\u001b[K     |████████████████████████████████| 757kB 5.6MB/s \n",
            "\u001b[?25hRequirement already satisfied: numpy in /usr/local/lib/python3.7/dist-packages (from transformers==3) (1.19.5)\n",
            "Requirement already satisfied: regex!=2019.12.17 in /usr/local/lib/python3.7/dist-packages (from transformers==3) (2019.12.20)\n",
            "Collecting sentencepiece\n",
            "\u001b[?25l  Downloading https://files.pythonhosted.org/packages/f5/99/e0808cb947ba10f575839c43e8fafc9cc44e4a7a2c8f79c60db48220a577/sentencepiece-0.1.95-cp37-cp37m-manylinux2014_x86_64.whl (1.2MB)\n",
            "\u001b[K     |████████████████████████████████| 1.2MB 9.1MB/s \n",
            "\u001b[?25hRequirement already satisfied: requests in /usr/local/lib/python3.7/dist-packages (from transformers==3) (2.23.0)\n",
            "Collecting sacremoses\n",
            "\u001b[?25l  Downloading https://files.pythonhosted.org/packages/7d/34/09d19aff26edcc8eb2a01bed8e98f13a1537005d31e95233fd48216eed10/sacremoses-0.0.43.tar.gz (883kB)\n",
            "\u001b[K     |████████████████████████████████| 890kB 18.3MB/s \n",
            "\u001b[?25hRequirement already satisfied: packaging in /usr/local/lib/python3.7/dist-packages (from transformers==3) (20.9)\n",
            "Requirement already satisfied: tqdm>=4.27 in /usr/local/lib/python3.7/dist-packages (from transformers==3) (4.41.1)\n",
            "Requirement already satisfied: filelock in /usr/local/lib/python3.7/dist-packages (from transformers==3) (3.0.12)\n",
            "Collecting tokenizers==0.8.0-rc4\n",
            "\u001b[?25l  Downloading https://files.pythonhosted.org/packages/f7/82/0e82a95bd9db2b32569500cc1bb47aa7c4e0f57aa5e35cceba414096917b/tokenizers-0.8.0rc4-cp37-cp37m-manylinux1_x86_64.whl (3.0MB)\n",
            "\u001b[K     |████████████████████████████████| 3.0MB 18.6MB/s \n",
            "\u001b[?25hRequirement already satisfied: urllib3!=1.25.0,!=1.25.1,<1.26,>=1.21.1 in /usr/local/lib/python3.7/dist-packages (from requests->transformers==3) (1.24.3)\n",
            "Requirement already satisfied: chardet<4,>=3.0.2 in /usr/local/lib/python3.7/dist-packages (from requests->transformers==3) (3.0.4)\n",
            "Requirement already satisfied: certifi>=2017.4.17 in /usr/local/lib/python3.7/dist-packages (from requests->transformers==3) (2020.12.5)\n",
            "Requirement already satisfied: idna<3,>=2.5 in /usr/local/lib/python3.7/dist-packages (from requests->transformers==3) (2.10)\n",
            "Requirement already satisfied: six in /usr/local/lib/python3.7/dist-packages (from sacremoses->transformers==3) (1.15.0)\n",
            "Requirement already satisfied: click in /usr/local/lib/python3.7/dist-packages (from sacremoses->transformers==3) (7.1.2)\n",
            "Requirement already satisfied: joblib in /usr/local/lib/python3.7/dist-packages (from sacremoses->transformers==3) (1.0.1)\n",
            "Requirement already satisfied: pyparsing>=2.0.2 in /usr/local/lib/python3.7/dist-packages (from packaging->transformers==3) (2.4.7)\n",
            "Building wheels for collected packages: sacremoses\n",
            "  Building wheel for sacremoses (setup.py) ... \u001b[?25l\u001b[?25hdone\n",
            "  Created wheel for sacremoses: filename=sacremoses-0.0.43-cp37-none-any.whl size=893262 sha256=e0d359fdc74d0d30c530868a5e42a41f513b02bc431da589b6ef601c68250b1c\n",
            "  Stored in directory: /root/.cache/pip/wheels/29/3c/fd/7ce5c3f0666dab31a50123635e6fb5e19ceb42ce38d4e58f45\n",
            "Successfully built sacremoses\n",
            "Installing collected packages: sentencepiece, sacremoses, tokenizers, transformers\n",
            "Successfully installed sacremoses-0.0.43 sentencepiece-0.1.95 tokenizers-0.8.0rc4 transformers-3.0.0\n"
          ],
          "name": "stdout"
        }
      ]
    },
    {
      "cell_type": "code",
      "metadata": {
        "id": "rIaTw-30wuYj",
        "colab": {
          "base_uri": "https://localhost:8080/"
        },
        "outputId": "1125e24b-dd16-40ed-c4a3-8b65388357c9"
      },
      "source": [
        "import torch\r\n",
        "\r\n",
        "# If there's a GPU available...\r\n",
        "if torch.cuda.is_available():    \r\n",
        "    # Tell PyTorch to use the GPU.    \r\n",
        "    device = torch.device(\"cuda\")\r\n",
        "    print('There are %d GPU(s) available.' % torch.cuda.device_count())\r\n",
        "    print('We will use the GPU:', torch.cuda.get_device_name(0))\r\n",
        "# If not...\r\n",
        "else:\r\n",
        "    print('No GPU available, using the CPU instead.')\r\n",
        "    device = torch.device(\"cpu\")\r\n"
      ],
      "execution_count": null,
      "outputs": [
        {
          "output_type": "stream",
          "text": [
            "No GPU available, using the CPU instead.\n"
          ],
          "name": "stdout"
        }
      ]
    },
    {
      "cell_type": "code",
      "metadata": {
        "colab": {
          "base_uri": "https://localhost:8080/",
          "height": 164,
          "referenced_widgets": [
            "cdf6e8bed8164b1983b912b0f901e548",
            "b8fc75a8c197404094d44f27e16f9ad4",
            "88afcdd9a6314118b049617a767abf29",
            "572183747ea54bf6ba9b8e3fad14c051",
            "c5de6c476d8f47cb811fad0924d32c73",
            "fbbce6d4129742fdb3f4861fdb244a98",
            "600b1b5a9b044e46b59a98037334ffc9",
            "79e258c2f4714fe682de75a0af781505",
            "9c429f698e9a48b1b91c20cf730cfe01",
            "bc6d8e1be5914b35abaee41e5a19f95e",
            "60b220d2cd5a45218d63d2af3e6f5b39",
            "c2fbd36ba68b4b2b91e1fe6bdaf00de0",
            "d2a2419975444a2ca69a2795b64c8f6b",
            "86fa26a483be4cadac03327774db0525",
            "7438ed9283e74b64bc90f4de3c8c9838",
            "c67544cfa0f44ec98e949cce5f9084b3",
            "922770a3d4904947aa22b8a40bdacc20",
            "71ec1ac98a1a44179161d03836d44c1c",
            "1c93184b49c34361b6e083fc13ab6226",
            "b18cae22db2e4f40baa2a1b3918ee483",
            "10e182ecd9eb4e16839a4690018fbb26",
            "5278a33fa0574bfaaabd57ed9a0fda94",
            "5100e92f69824956b6bed7d93adcbf58",
            "a74498701bee442d82ded6388c9a6b6f"
          ]
        },
        "id": "3q2q7wRC7Zgr",
        "outputId": "b4d8787c-3792-433b-bf6c-320321949898"
      },
      "source": [
        "from transformers import BertForQuestionAnswering\r\n",
        "model = BertForQuestionAnswering.from_pretrained('bert-large-uncased-whole-word-masking-finetuned-squad')\r\n",
        "\r\n",
        "from transformers import BertTokenizer\r\n",
        "tokenizer = BertTokenizer.from_pretrained('bert-large-uncased-whole-word-masking-finetuned-squad')"
      ],
      "execution_count": null,
      "outputs": [
        {
          "output_type": "display_data",
          "data": {
            "application/vnd.jupyter.widget-view+json": {
              "model_id": "cdf6e8bed8164b1983b912b0f901e548",
              "version_minor": 0,
              "version_major": 2
            },
            "text/plain": [
              "HBox(children=(FloatProgress(value=0.0, description='Downloading', max=443.0, style=ProgressStyle(description_…"
            ]
          },
          "metadata": {
            "tags": []
          }
        },
        {
          "output_type": "stream",
          "text": [
            "\n"
          ],
          "name": "stdout"
        },
        {
          "output_type": "display_data",
          "data": {
            "application/vnd.jupyter.widget-view+json": {
              "model_id": "9c429f698e9a48b1b91c20cf730cfe01",
              "version_minor": 0,
              "version_major": 2
            },
            "text/plain": [
              "HBox(children=(FloatProgress(value=0.0, description='Downloading', max=1340675298.0, style=ProgressStyle(descr…"
            ]
          },
          "metadata": {
            "tags": []
          }
        },
        {
          "output_type": "stream",
          "text": [
            "\n"
          ],
          "name": "stdout"
        },
        {
          "output_type": "display_data",
          "data": {
            "application/vnd.jupyter.widget-view+json": {
              "model_id": "922770a3d4904947aa22b8a40bdacc20",
              "version_minor": 0,
              "version_major": 2
            },
            "text/plain": [
              "HBox(children=(FloatProgress(value=0.0, description='Downloading', max=231508.0, style=ProgressStyle(descripti…"
            ]
          },
          "metadata": {
            "tags": []
          }
        },
        {
          "output_type": "stream",
          "text": [
            "\n"
          ],
          "name": "stdout"
        }
      ]
    },
    {
      "cell_type": "code",
      "metadata": {
        "id": "nQSFDoQFwwPa"
      },
      "source": [
        "#model.cuda()\r\n",
        "def answer_question(question, answer_text):\r\n",
        "\r\n",
        "  # Tokenize\r\n",
        "  input_ids = tokenizer.encode(question, answer_text)\r\n",
        "\r\n",
        "  # Length of input sequence\r\n",
        "  print('Query has {:,} tokens.\\n'.format(len(input_ids)))\r\n",
        "\r\n",
        "  # Set segment IDs\r\n",
        "  sep_index = input_ids.index(tokenizer.sep_token_id)\r\n",
        "  \r\n",
        "  num_seg_a = sep_index + 1\r\n",
        "\r\n",
        "  num_seg_b = len(input_ids) - num_seg_a\r\n",
        "\r\n",
        "  segment_ids = [0]*num_seg_a + [1]*num_seg_b\r\n",
        "\r\n",
        "  assert len(segment_ids) == len(input_ids)\r\n",
        "\r\n",
        "  # Evaluate\r\n",
        "  start_scores, end_scores = model(torch.tensor([input_ids]), token_type_ids = torch.tensor([segment_ids]))\r\n",
        "  #input = input.to(device)\r\n",
        "  #model = model.to(device)\r\n",
        "  \r\n",
        "  # Reconstruct answer\r\n",
        "  # Find the tokens with the highest `start` and `end` scores.\r\n",
        "  answer_start = torch.argmax(start_scores)\r\n",
        "  answer_end = torch.argmax(end_scores)\r\n",
        "\r\n",
        "  # Get the string versions of the input tokens.\r\n",
        "  tokens = tokenizer.convert_ids_to_tokens(input_ids)\r\n",
        "\r\n",
        "  # Start with the first token.\r\n",
        "  answer = tokens[answer_start]\r\n",
        "\r\n",
        "  # Select the remaining answer tokens and join them with whitespace.\r\n",
        "  for i in range(answer_start + 1, answer_end + 1):\r\n",
        "        \r\n",
        "    # If it's a subword token, then recombine it with the previous token.\r\n",
        "    if tokens[i][0:2] == '##':\r\n",
        "        answer += tokens[i][2:]\r\n",
        "        \r\n",
        "    # Otherwise, add a space then the token.\r\n",
        "    else:\r\n",
        "        answer += ' ' + tokens[i]\r\n",
        "\r\n",
        "  print('Answer: \"' + answer + '\"')\r\n",
        "  print(answer_start)"
      ],
      "execution_count": null,
      "outputs": []
    },
    {
      "cell_type": "code",
      "metadata": {
        "id": "qNVoLutSw50o"
      },
      "source": [
        ""
      ],
      "execution_count": null,
      "outputs": []
    },
    {
      "cell_type": "code",
      "metadata": {
        "id": "IKrv1myB5QqB"
      },
      "source": [
        "cf_text = \"Carbon fibers or carbon fibres (alternatively CF, graphite fiber or graphite fibre) are fibers about 5 to 10 micrometers (0.00020–0.00039 in) in diameter and composed mostly of carbon atoms. Carbon fibers have several advantages including high stiffness, high tensile strength, low weight, high chemical resistance, high temperature tolerance and low thermal expansion. These properties have made carbon fiber very popular in aerospace, civil engineering, military, and motorsports, along with other competition sports. However, they are relatively expensive when compared with similar fibers, such as glass fibers or plastic fibers. To produce a carbon fiber, the carbon atoms are bonded together in crystals that are more or less aligned parallel to the long axis of the fiber as the crystal alignment gives the fiber high strength-to-volume ratio (in other words, it is strong for its size). Several thousand carbon fibers are bundled together to form a tow, which may be used by itself or woven into a fabric. Carbon fibers are usually combined with other materials to form a composite. When permeated with a plastic resin and baked, it forms carbon-fiber-reinforced polymer (often referred to as carbon fiber) which has a very high strength-to-weight ratio, and is extremely rigid although somewhat brittle. Carbon fibers are also composited with other materials, such as graphite, to form reinforced carbon-carbon composites, which have a very high heat tolerance.\""
      ],
      "execution_count": null,
      "outputs": []
    },
    {
      "cell_type": "code",
      "metadata": {
        "colab": {
          "base_uri": "https://localhost:8080/"
        },
        "id": "TK4ANyHa6eXL",
        "outputId": "29c1ad06-fc9b-4bb4-b45b-7ef72f664dd6"
      },
      "source": [
        "question = \"\"\r\n",
        "\r\n",
        "#question = question.to(device)\r\n",
        "\r\n",
        "answer_question(question, cf_text)\r\n"
      ],
      "execution_count": null,
      "outputs": [
        {
          "output_type": "stream",
          "text": [
            "Query has 297 tokens.\n",
            "\n",
            "Answer: \".\"\n"
          ],
          "name": "stdout"
        }
      ]
    }
  ]
}